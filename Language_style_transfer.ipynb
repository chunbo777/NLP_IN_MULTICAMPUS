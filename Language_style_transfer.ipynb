{
  "nbformat": 4,
  "nbformat_minor": 0,
  "metadata": {
    "colab": {
      "name": "Language_style_transfer.ipynb",
      "provenance": [],
      "authorship_tag": "ABX9TyMe9xfM3Kr9KnPq/nuebHzH"
    },
    "kernelspec": {
      "name": "python3",
      "display_name": "Python 3"
    },
    "language_info": {
      "name": "python"
    }
  },
  "cells": [
    {
      "cell_type": "code",
      "metadata": {
        "colab": {
          "base_uri": "https://localhost:8080/"
        },
        "id": "eA070qCeM_8S",
        "outputId": "e09a150b-4364-4ea3-a0a0-ed7999d2dc96"
      },
      "source": [
        "!mkdir -p model\n",
        "\n",
        "dir=\"http://people.csail.mit.edu/tianxiao/language-style-transfer/model/\"\n",
        "\n",
        "!wget {dir}yelp.d100.emb.txt -P model/\n",
        "!wget {dir}yelp.vocab -P model/\n",
        "!wget {dir}model.data-00000-of-00001 -P model/\n",
        "!wget {dir}model.index -P model/\n",
        "!wget {dir}model.meta -P model/"
      ],
      "execution_count": 13,
      "outputs": [
        {
          "output_type": "stream",
          "text": [
            "--2021-08-19 11:38:43--  http://people.csail.mit.edu/tianxiao/language-style-transfer/model/yelp.d100.emb.txt\n",
            "Resolving people.csail.mit.edu (people.csail.mit.edu)... 128.30.2.133\n",
            "Connecting to people.csail.mit.edu (people.csail.mit.edu)|128.30.2.133|:80... connected.\n",
            "HTTP request sent, awaiting response... 200 OK\n",
            "Length: 57404825 (55M) [text/plain]\n",
            "Saving to: ‘model/yelp.d100.emb.txt’\n",
            "\n",
            "yelp.d100.emb.txt   100%[===================>]  54.75M  11.8MB/s    in 5.5s    \n",
            "\n",
            "2021-08-19 11:38:49 (10.0 MB/s) - ‘model/yelp.d100.emb.txt’ saved [57404825/57404825]\n",
            "\n",
            "--2021-08-19 11:38:50--  http://people.csail.mit.edu/tianxiao/language-style-transfer/model/yelp.vocab\n",
            "Resolving people.csail.mit.edu (people.csail.mit.edu)... 128.30.2.133\n",
            "Connecting to people.csail.mit.edu (people.csail.mit.edu)|128.30.2.133|:80... connected.\n",
            "HTTP request sent, awaiting response... 200 OK\n",
            "Length: 198429 (194K)\n",
            "Saving to: ‘model/yelp.vocab’\n",
            "\n",
            "yelp.vocab          100%[===================>] 193.78K   677KB/s    in 0.3s    \n",
            "\n",
            "2021-08-19 11:38:50 (677 KB/s) - ‘model/yelp.vocab’ saved [198429/198429]\n",
            "\n",
            "--2021-08-19 11:38:50--  http://people.csail.mit.edu/tianxiao/language-style-transfer/model/model.data-00000-of-00001\n",
            "Resolving people.csail.mit.edu (people.csail.mit.edu)... 128.30.2.133\n",
            "Connecting to people.csail.mit.edu (people.csail.mit.edu)|128.30.2.133|:80... connected.\n",
            "HTTP request sent, awaiting response... 200 OK\n",
            "Length: 162606236 (155M)\n",
            "Saving to: ‘model/model.data-00000-of-00001’\n",
            "\n",
            "model.data-00000-of 100%[===================>] 155.07M  11.9MB/s    in 14s     \n",
            "\n",
            "2021-08-19 11:39:04 (11.1 MB/s) - ‘model/model.data-00000-of-00001’ saved [162606236/162606236]\n",
            "\n",
            "--2021-08-19 11:39:04--  http://people.csail.mit.edu/tianxiao/language-style-transfer/model/model.index\n",
            "Resolving people.csail.mit.edu (people.csail.mit.edu)... 128.30.2.133\n",
            "Connecting to people.csail.mit.edu (people.csail.mit.edu)|128.30.2.133|:80... connected.\n",
            "HTTP request sent, awaiting response... 200 OK\n",
            "Length: 4356 (4.3K)\n",
            "Saving to: ‘model/model.index’\n",
            "\n",
            "model.index         100%[===================>]   4.25K  --.-KB/s    in 0s      \n",
            "\n",
            "2021-08-19 11:39:05 (378 MB/s) - ‘model/model.index’ saved [4356/4356]\n",
            "\n",
            "--2021-08-19 11:39:05--  http://people.csail.mit.edu/tianxiao/language-style-transfer/model/model.meta\n",
            "Resolving people.csail.mit.edu (people.csail.mit.edu)... 128.30.2.133\n",
            "Connecting to people.csail.mit.edu (people.csail.mit.edu)|128.30.2.133|:80... connected.\n",
            "HTTP request sent, awaiting response... 200 OK\n",
            "Length: 9461583 (9.0M)\n",
            "Saving to: ‘model/model.meta’\n",
            "\n",
            "model.meta          100%[===================>]   9.02M  5.60MB/s    in 1.6s    \n",
            "\n",
            "2021-08-19 11:39:07 (5.60 MB/s) - ‘model/model.meta’ saved [9461583/9461583]\n",
            "\n"
          ],
          "name": "stdout"
        }
      ]
    },
    {
      "cell_type": "code",
      "metadata": {
        "colab": {
          "base_uri": "https://localhost:8080/"
        },
        "id": "fgLDyICwKAaa",
        "outputId": "09799f37-ac52-43a1-b895-5cbc13b30815"
      },
      "source": [
        "!!git clone https://github.com/shentianxiao/language-style-transfer"
      ],
      "execution_count": 1,
      "outputs": [
        {
          "output_type": "stream",
          "text": [
            "Cloning into 'language-style-transfer'...\n",
            "remote: Enumerating objects: 242, done.\u001b[K\n",
            "remote: Total 242 (delta 0), reused 0 (delta 0), pack-reused 242\u001b[K\n",
            "Receiving objects: 100% (242/242), 31.19 MiB | 17.96 MiB/s, done.\n",
            "Resolving deltas: 100% (140/140), done.\n"
          ],
          "name": "stdout"
        }
      ]
    },
    {
      "cell_type": "code",
      "metadata": {
        "colab": {
          "base_uri": "https://localhost:8080/"
        },
        "id": "FKlz7U8vKGDQ",
        "outputId": "5d20cb46-1fd8-4b34-e8ad-21b1c0b85cb9"
      },
      "source": [
        "!pwd"
      ],
      "execution_count": 2,
      "outputs": [
        {
          "output_type": "stream",
          "text": [
            "/content\n"
          ],
          "name": "stdout"
        }
      ]
    },
    {
      "cell_type": "code",
      "metadata": {
        "colab": {
          "base_uri": "https://localhost:8080/"
        },
        "id": "UcgGVRGyKh7_",
        "outputId": "6cb15cf8-e9a0-462d-bc67-017cc4c984fa"
      },
      "source": [
        "%cd language-style-transfer/"
      ],
      "execution_count": 3,
      "outputs": [
        {
          "output_type": "stream",
          "text": [
            "/content/language-style-transfer\n"
          ],
          "name": "stdout"
        }
      ]
    },
    {
      "cell_type": "code",
      "metadata": {
        "id": "vptrEJ13Kkbn"
      },
      "source": [
        "%mkdir tmp/"
      ],
      "execution_count": 5,
      "outputs": []
    },
    {
      "cell_type": "code",
      "metadata": {
        "colab": {
          "base_uri": "https://localhost:8080/"
        },
        "id": "xj7wppXzLD4f",
        "outputId": "1f15d976-e8d4-4ced-f409-b3b213ef241a"
      },
      "source": [
        "%cd code"
      ],
      "execution_count": 6,
      "outputs": [
        {
          "output_type": "stream",
          "text": [
            "/content/language-style-transfer/code\n"
          ],
          "name": "stdout"
        }
      ]
    },
    {
      "cell_type": "code",
      "metadata": {
        "colab": {
          "base_uri": "https://localhost:8080/",
          "height": 871
        },
        "id": "d97dUGRZNs1A",
        "outputId": "6dec493c-5591-4c1f-85b9-4f714ff3064f"
      },
      "source": [
        "!pip install ipdb"
      ],
      "execution_count": 15,
      "outputs": [
        {
          "output_type": "stream",
          "text": [
            "Collecting ipdb\n",
            "  Downloading ipdb-0.13.9.tar.gz (16 kB)\n",
            "Requirement already satisfied: setuptools in /usr/local/lib/python3.7/dist-packages (from ipdb) (57.4.0)\n",
            "Collecting ipython>=7.17.0\n",
            "  Downloading ipython-7.26.0-py3-none-any.whl (786 kB)\n",
            "\u001b[K     |████████████████████████████████| 786 kB 8.8 MB/s \n",
            "\u001b[?25hRequirement already satisfied: toml>=0.10.2 in /usr/local/lib/python3.7/dist-packages (from ipdb) (0.10.2)\n",
            "Requirement already satisfied: decorator in /usr/local/lib/python3.7/dist-packages (from ipdb) (4.4.2)\n",
            "Requirement already satisfied: pygments in /usr/local/lib/python3.7/dist-packages (from ipython>=7.17.0->ipdb) (2.6.1)\n",
            "Requirement already satisfied: backcall in /usr/local/lib/python3.7/dist-packages (from ipython>=7.17.0->ipdb) (0.2.0)\n",
            "Requirement already satisfied: matplotlib-inline in /usr/local/lib/python3.7/dist-packages (from ipython>=7.17.0->ipdb) (0.1.2)\n",
            "Requirement already satisfied: pickleshare in /usr/local/lib/python3.7/dist-packages (from ipython>=7.17.0->ipdb) (0.7.5)\n",
            "Requirement already satisfied: jedi>=0.16 in /usr/local/lib/python3.7/dist-packages (from ipython>=7.17.0->ipdb) (0.18.0)\n",
            "Requirement already satisfied: traitlets>=4.2 in /usr/local/lib/python3.7/dist-packages (from ipython>=7.17.0->ipdb) (5.0.5)\n",
            "Requirement already satisfied: pexpect>4.3 in /usr/local/lib/python3.7/dist-packages (from ipython>=7.17.0->ipdb) (4.8.0)\n",
            "Collecting prompt-toolkit!=3.0.0,!=3.0.1,<3.1.0,>=2.0.0\n",
            "  Downloading prompt_toolkit-3.0.19-py3-none-any.whl (368 kB)\n",
            "\u001b[K     |████████████████████████████████| 368 kB 61.7 MB/s \n",
            "\u001b[?25hRequirement already satisfied: parso<0.9.0,>=0.8.0 in /usr/local/lib/python3.7/dist-packages (from jedi>=0.16->ipython>=7.17.0->ipdb) (0.8.2)\n",
            "Requirement already satisfied: ptyprocess>=0.5 in /usr/local/lib/python3.7/dist-packages (from pexpect>4.3->ipython>=7.17.0->ipdb) (0.7.0)\n",
            "Requirement already satisfied: wcwidth in /usr/local/lib/python3.7/dist-packages (from prompt-toolkit!=3.0.0,!=3.0.1,<3.1.0,>=2.0.0->ipython>=7.17.0->ipdb) (0.2.5)\n",
            "Requirement already satisfied: ipython-genutils in /usr/local/lib/python3.7/dist-packages (from traitlets>=4.2->ipython>=7.17.0->ipdb) (0.2.0)\n",
            "Building wheels for collected packages: ipdb\n",
            "  Building wheel for ipdb (setup.py) ... \u001b[?25l\u001b[?25hdone\n",
            "  Created wheel for ipdb: filename=ipdb-0.13.9-py3-none-any.whl size=11648 sha256=35bde01cbdc025164c10431aab947ec89ca203adf2976d949371149ef2107b64\n",
            "  Stored in directory: /root/.cache/pip/wheels/65/cd/cc/aaf92acae337a28fdd2aa4d632196a59745c8c39f76eaeed01\n",
            "Successfully built ipdb\n",
            "Installing collected packages: prompt-toolkit, ipython, ipdb\n",
            "  Attempting uninstall: prompt-toolkit\n",
            "    Found existing installation: prompt-toolkit 1.0.18\n",
            "    Uninstalling prompt-toolkit-1.0.18:\n",
            "      Successfully uninstalled prompt-toolkit-1.0.18\n",
            "  Attempting uninstall: ipython\n",
            "    Found existing installation: ipython 5.5.0\n",
            "    Uninstalling ipython-5.5.0:\n",
            "      Successfully uninstalled ipython-5.5.0\n",
            "\u001b[31mERROR: pip's dependency resolver does not currently take into account all the packages that are installed. This behaviour is the source of the following dependency conflicts.\n",
            "jupyter-console 5.2.0 requires prompt-toolkit<2.0.0,>=1.0.0, but you have prompt-toolkit 3.0.19 which is incompatible.\n",
            "google-colab 1.0.0 requires ipython~=5.5.0, but you have ipython 7.26.0 which is incompatible.\u001b[0m\n",
            "Successfully installed ipdb-0.13.9 ipython-7.26.0 prompt-toolkit-3.0.19\n"
          ],
          "name": "stdout"
        },
        {
          "output_type": "display_data",
          "data": {
            "application/vnd.colab-display-data+json": {
              "pip_warning": {
                "packages": [
                  "IPython",
                  "prompt_toolkit"
                ]
              }
            }
          },
          "metadata": {}
        }
      ]
    },
    {
      "cell_type": "code",
      "metadata": {
        "colab": {
          "base_uri": "https://localhost:8080/"
        },
        "id": "fYEED6XvOIVy",
        "outputId": "2f42e79e-e335-4ccb-ec46-2d70807b6b94"
      },
      "source": [
        "!pwd"
      ],
      "execution_count": 19,
      "outputs": [
        {
          "output_type": "stream",
          "text": [
            "/content/language-style-transfer/code\n"
          ],
          "name": "stdout"
        }
      ]
    },
    {
      "cell_type": "code",
      "metadata": {
        "colab": {
          "base_uri": "https://localhost:8080/"
        },
        "id": "hC981Bf_Nvxm",
        "outputId": "f71dab1f-617f-4dee-dc17-a86a275f80d1"
      },
      "source": [
        "!pip install python==2.7"
      ],
      "execution_count": 24,
      "outputs": [
        {
          "output_type": "stream",
          "text": [
            "\u001b[31mERROR: Could not find a version that satisfies the requirement python==2.7 (from versions: none)\u001b[0m\n",
            "\u001b[31mERROR: No matching distribution found for python==2.7\u001b[0m\n"
          ],
          "name": "stdout"
        }
      ]
    },
    {
      "cell_type": "code",
      "metadata": {
        "colab": {
          "base_uri": "https://localhost:8080/"
        },
        "id": "OGxw6tBzL9Cs",
        "outputId": "83110f8d-50fd-42ac-9689-f89dbcf20ec9"
      },
      "source": [
        "!python style_transfer.py --train ../data/yelp/sentiment.train --dev ../data/yelp/sentiment.dev --output ../tmp/sentiment.dev --vocab ../tmp/yelp.vocab --model ../tmp/model\n"
      ],
      "execution_count": 17,
      "outputs": [
        {
          "output_type": "stream",
          "text": [
            "Traceback (most recent call last):\n",
            "  File \"style_transfer.py\", line 6, in <module>\n",
            "    import cPickle as pickle\n",
            "ModuleNotFoundError: No module named 'cPickle'\n"
          ],
          "name": "stdout"
        }
      ]
    },
    {
      "cell_type": "code",
      "metadata": {
        "id": "n9q55gzxL_rV"
      },
      "source": [
        ""
      ],
      "execution_count": null,
      "outputs": []
    }
  ]
}